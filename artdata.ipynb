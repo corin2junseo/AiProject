{
  "nbformat": 4,
  "nbformat_minor": 0,
  "metadata": {
    "colab": {
      "provenance": []
    },
    "kernelspec": {
      "name": "python3",
      "display_name": "Python 3"
    },
    "language_info": {
      "name": "python"
    }
  },
  "cells": [
    {
      "cell_type": "code",
      "execution_count": 11,
      "metadata": {
        "id": "3s2ACN_jtXbu"
      },
      "outputs": [],
      "source": [
        "# 단계 1: 폰트 설치\n",
        "import matplotlib.pyplot as plt\n",
        "import matplotlib.font_manager as fm\n",
        "\n",
        "!apt-get -qq -y install fonts-nanum > /dev/null\n",
        "#fontpath = '/usr/share/fonts/truetype/nanum/NanumBarunGothic.ttf'\n",
        "\n",
        "#font = fm.FontProperties(fname=fontpath, size=9)\n",
        "\n",
        "#fm._rebuild()\n",
        "\n",
        "\n",
        "\n",
        "fe = fm.FontEntry(\n",
        "    fname=r'/usr/share/fonts/truetype/nanum/NanumBarunGothic.ttf', # ttf 파일이 저장되어 있는 경로\n",
        "    name='NanumGothic')                         # 이 폰트의 원하는 이름 설정\n",
        "fm.fontManager.ttflist.insert(0, fe)              # Matplotlib에 폰트 추가\n",
        "plt.rcParams.update({'font.size': 18, 'font.family': 'NanumGothic'}) # 폰트 설치"
      ]
    },
    {
      "cell_type": "code",
      "source": [
        "# 단계 2: 런타임 재시작\n",
        "import os\n",
        "os.kill(os.getpid(), 9)"
      ],
      "metadata": {
        "id": "WfGCD4Y00fPT"
      },
      "execution_count": null,
      "outputs": []
    },
    {
      "cell_type": "code",
      "source": [
        "# 단계 3: 한글 폰트 설정\n",
        "import matplotlib.pyplot as plt\n",
        "import matplotlib as mpl\n",
        "import matplotlib.font_manager as fm\n",
        "import pandas as pd\n",
        "from sklearn.impute import SimpleImputer\n",
        "from sklearn.preprocessing import OneHotEncoder\n",
        "# 마이너스 표시 문제\n",
        "mpl.rcParams['axes.unicode_minus'] = False\n",
        "\n",
        "# 한글 폰트 설정\n",
        "fe = fm.FontEntry(\n",
        "    fname=r'/usr/share/fonts/truetype/nanum/NanumBarunGothic.ttf', # ttf 파일이 저장되어 있는 경로\n",
        "    name='NanumGothic')                        # 이 폰트의 원하는 이름 설정\n",
        "fm.fontManager.ttflist.insert(0, fe)              # Matplotlib에 폰트 추가\n",
        "plt.rcParams.update({'font.size': 10, 'font.family': 'NanumGothic'}) # 폰트 설"
      ],
      "metadata": {
        "id": "9ekCW-02yGif"
      },
      "execution_count": 40,
      "outputs": []
    },
    {
      "cell_type": "code",
      "source": [
        "!pip install torch torchvision\n",
        "import pandas as pd\n",
        "import torch\n",
        "import torch.nn as nn\n",
        "import torch.optim as optim\n",
        "from sklearn.model_selection import train_test_split\n",
        "from sklearn.preprocessing import LabelEncoder, StandardScaler\n"
      ],
      "metadata": {
        "colab": {
          "base_uri": "https://localhost:8080/"
        },
        "id": "8jFbDLK_2eMr",
        "outputId": "04cbbf4d-ddfe-4d7b-8a34-4b4c5f9c562e"
      },
      "execution_count": 15,
      "outputs": [
        {
          "output_type": "stream",
          "name": "stdout",
          "text": [
            "Requirement already satisfied: torch in /usr/local/lib/python3.10/dist-packages (2.5.1+cu121)\n",
            "Requirement already satisfied: torchvision in /usr/local/lib/python3.10/dist-packages (0.20.1+cu121)\n",
            "Requirement already satisfied: filelock in /usr/local/lib/python3.10/dist-packages (from torch) (3.16.1)\n",
            "Requirement already satisfied: typing-extensions>=4.8.0 in /usr/local/lib/python3.10/dist-packages (from torch) (4.12.2)\n",
            "Requirement already satisfied: networkx in /usr/local/lib/python3.10/dist-packages (from torch) (3.4.2)\n",
            "Requirement already satisfied: jinja2 in /usr/local/lib/python3.10/dist-packages (from torch) (3.1.4)\n",
            "Requirement already satisfied: fsspec in /usr/local/lib/python3.10/dist-packages (from torch) (2024.10.0)\n",
            "Requirement already satisfied: sympy==1.13.1 in /usr/local/lib/python3.10/dist-packages (from torch) (1.13.1)\n",
            "Requirement already satisfied: mpmath<1.4,>=1.1.0 in /usr/local/lib/python3.10/dist-packages (from sympy==1.13.1->torch) (1.3.0)\n",
            "Requirement already satisfied: numpy in /usr/local/lib/python3.10/dist-packages (from torchvision) (1.26.4)\n",
            "Requirement already satisfied: pillow!=8.3.*,>=5.3.0 in /usr/local/lib/python3.10/dist-packages (from torchvision) (11.0.0)\n",
            "Requirement already satisfied: MarkupSafe>=2.0 in /usr/local/lib/python3.10/dist-packages (from jinja2->torch) (3.0.2)\n"
          ]
        }
      ]
    },
    {
      "cell_type": "code",
      "source": [
        "import pandas as pd\n",
        "import numpy as np\n",
        "import torch\n",
        "import torch.nn as nn\n",
        "import torch.optim as optim\n",
        "from sklearn.model_selection import train_test_split\n",
        "from sklearn.preprocessing import LabelEncoder\n",
        "from sklearn.preprocessing import OneHotEncoder\n",
        "from sklearn.compose import ColumnTransformer\n",
        "from sklearn.pipeline import Pipeline\n",
        "\n",
        "\n",
        "\n",
        "# CSV 파일 경로\n",
        "file_path0 = \"/content/예매.csv\"\n",
        "#file_path0 = \"/content/SAC_ADAVANTK_DATA_202312.csv\"\n",
        "\n",
        "# 파일 읽기\n",
        "#df0 = pd.read_csv(file_path0, encoding='euc-kr')\n",
        "try:\n",
        "    df = pd.read_csv(file_path0, encoding='utf-8')\n",
        "except UnicodeDecodeError:\n",
        "    df = pd.read_csv(file_path0, encoding='ISO-8859-1')\n",
        "\n",
        "print(df.head())\n",
        "print(df.count())"
      ],
      "metadata": {
        "colab": {
          "base_uri": "https://localhost:8080/"
        },
        "id": "4M--Vlj00oBM",
        "outputId": "af40d5d6-8ba8-4001-d6a6-e4e359e4a854"
      },
      "execution_count": 85,
      "outputs": [
        {
          "output_type": "stream",
          "name": "stdout",
          "text": [
            "                   PBLPRFR_NM PBLPRFR_PLACE_NM  PBLPRFR_DE  PBLPRFR_TIME  \\\n",
            "0  국립합창단 창단 50주년 기념 <한국합창교향곡>             콘서트홀    20230321        193000   \n",
            "1  국립합창단 창단 50주년 기념 <한국합창교향곡>             콘서트홀    20230321        193000   \n",
            "2  국립합창단 창단 50주년 기념 <한국합창교향곡>             콘서트홀    20230321        193000   \n",
            "3  국립합창단 창단 50주년 기념 <한국합창교향곡>             콘서트홀    20230321        193000   \n",
            "4  국립합창단 창단 50주년 기념 <한국합창교향곡>             콘서트홀    20230321        193000   \n",
            "\n",
            "  GENRE_NM                             PRC_CN  \\\n",
            "0       합창  R석 30000원 / S석 20000원 / A석 10000원   \n",
            "1       합창  R석 30000원 / S석 20000원 / A석 10000원   \n",
            "2       합창  R석 30000원 / S석 20000원 / A석 10000원   \n",
            "3       합창  R석 30000원 / S석 20000원 / A석 10000원   \n",
            "4       합창  R석 30000원 / S석 20000원 / A석 10000원   \n",
            "\n",
            "                                            HMPG_URL  SETLE_DE  SETLE_TIME  \\\n",
            "0  https://www.sac.or.kr/site/main/show/show_view...  20230308       70000   \n",
            "1  https://www.sac.or.kr/site/main/show/show_view...  20230221      190000   \n",
            "2  https://www.sac.or.kr/site/main/show/show_view...  20230228       10000   \n",
            "3  https://www.sac.or.kr/site/main/show/show_view...  20230226      100000   \n",
            "4  https://www.sac.or.kr/site/main/show/show_view...  20230320      230000   \n",
            "\n",
            "     DSCNT_CN  SETLE_PRICE MBER_GRAD_NM BN_VALUE SEXDSTN_VALUE OC_AREA_NM  \\\n",
            "0       기타 할인        24000           무료      50대             F         경기   \n",
            "1       기타 할인        10000           블루      60대             M         서울   \n",
            "2       기타 할인         8000           무료      60대             M         서울   \n",
            "3       기타 할인        24000           무료      40대             M         서울   \n",
            "4  골드회원 할인40%        18000           골드      60대             F         서울   \n",
            "\n",
            "  RFN_AT  \n",
            "0      N  \n",
            "1      N  \n",
            "2      N  \n",
            "3      N  \n",
            "4      N  \n",
            "PBLPRFR_NM          33041\n",
            "PBLPRFR_PLACE_NM    33041\n",
            "PBLPRFR_DE          33041\n",
            "PBLPRFR_TIME        33041\n",
            "GENRE_NM            33041\n",
            "PRC_CN              33041\n",
            "HMPG_URL            33041\n",
            "SETLE_DE            33041\n",
            "SETLE_TIME          33041\n",
            "DSCNT_CN            33041\n",
            "SETLE_PRICE         33041\n",
            "MBER_GRAD_NM        33041\n",
            "BN_VALUE            33041\n",
            "SEXDSTN_VALUE       33041\n",
            "OC_AREA_NM          32928\n",
            "RFN_AT              33041\n",
            "dtype: int64\n"
          ]
        }
      ]
    },
    {
      "cell_type": "code",
      "source": [
        "import pandas as pd\n",
        "from sklearn.model_selection import train_test_split\n",
        "from sklearn.preprocessing import LabelEncoder\n",
        "import torch\n",
        "\n",
        "# 데이터 로드\n",
        "df = pd.read_csv(file_path0, encoding='utf-8')\n",
        "\n",
        "# NaN 값을 포함하는 행 제거\n",
        "df.dropna(inplace=True)\n",
        "\n",
        "# 타겟 변수 레이블 인코딩\n",
        "label_encoder = LabelEncoder()\n",
        "df['GENRE_NM'] = label_encoder.fit_transform(df['GENRE_NM'])\n",
        "\n",
        "# object형 열만 선택\n",
        "object_cols = df.select_dtypes(include=['object']).columns\n",
        "\n",
        "# 원-핫 인코딩 수행 (타겟 변수를 제외하고 인코딩)\n",
        "df_encoded = pd.get_dummies(df, columns=object_cols, drop_first=True)\n",
        "\n",
        "# 입력 변수와 타겟 변수 분리\n",
        "X = df_encoded.drop('GENRE_NM', axis=1)  # 타겟 변수\n",
        "y = df_encoded['GENRE_NM']  # 인코딩된 타겟 변수\n",
        "\n",
        "# 훈련 및 테스트 데이터 분리\n",
        "X_train, X_test, y_train, y_test = train_test_split(X, y, test_size=0.2, random_state=42)\n",
        "\n",
        "# 데이터 타입 확인\n",
        "print(X_train.dtypes)  # 데이터 타입 확인\n",
        "\n",
        "# 모든 열을 수치형으로 변환\n",
        "X_train = X_train.astype(float)\n",
        "X_test = X_test.astype(float)\n",
        "\n",
        "# 데이터셋 클래스 정의\n",
        "class GenreDataset(torch.utils.data.Dataset):\n",
        "    def __init__(self, features, targets):\n",
        "        # 데이터 타입을 float32로 변환\n",
        "        self.X = torch.tensor(features.values, dtype=torch.float32)\n",
        "        self.y = torch.tensor(targets.values, dtype=torch.long)\n",
        "\n",
        "    def __len__(self):\n",
        "        return len(self.y)\n",
        "\n",
        "    def __getitem__(self, idx):\n",
        "        return self.X[idx], self.y[idx]\n",
        "\n",
        "# 데이터셋 생성\n",
        "train_dataset = GenreDataset(X_train, y_train)\n",
        "test_dataset = GenreDataset(X_test, y_test)\n",
        "\n",
        "# DataLoader 생성\n",
        "train_loader = torch.utils.data.DataLoader(train_dataset, batch_size=32, shuffle=True)\n",
        "test_loader = torch.utils.data.DataLoader(test_dataset, batch_size=32, shuffle=False)\n",
        "\n",
        "# 데이터셋 및 로더가 올바르게 생성되었는지 확인\n",
        "print(f'훈련 데이터 크기: {len(train_dataset)}')\n",
        "print(f'테스트 데이터 크기: {len(test_dataset)}')\n"
      ],
      "metadata": {
        "colab": {
          "base_uri": "https://localhost:8080/"
        },
        "id": "1bz8q2QOHJG2",
        "outputId": "1f2c8b2a-a57d-4610-9e3a-e0c91a1b73cc"
      },
      "execution_count": 87,
      "outputs": [
        {
          "output_type": "stream",
          "name": "stdout",
          "text": [
            "PBLPRFR_DE       int64\n",
            "PBLPRFR_TIME     int64\n",
            "SETLE_DE         int64\n",
            "SETLE_TIME       int64\n",
            "SETLE_PRICE      int64\n",
            "                 ...  \n",
            "OC_AREA_NM_제주     bool\n",
            "OC_AREA_NM_충남     bool\n",
            "OC_AREA_NM_충북     bool\n",
            "OC_AREA_NM_충청     bool\n",
            "RFN_AT_Y          bool\n",
            "Length: 205, dtype: object\n",
            "훈련 데이터 크기: 26342\n",
            "테스트 데이터 크기: 6586\n"
          ]
        }
      ]
    },
    {
      "cell_type": "code",
      "source": [
        "class GenrePredictionModel(nn.Module):\n",
        "    def __init__(self, input_dim, num_classes):\n",
        "        super(GenrePredictionModel, self).__init__()\n",
        "        self.fc1 = nn.Linear(input_dim, 128)\n",
        "        self.fc2 = nn.Linear(128, 64)\n",
        "        self.fc3 = nn.Linear(64, num_classes)\n",
        "\n",
        "    def forward(self, x):\n",
        "        x = torch.relu(self.fc1(x))\n",
        "        x = torch.relu(self.fc2(x))\n",
        "        x = self.fc3(x)\n",
        "        return x\n",
        "\n",
        "# 모델 초기화\n",
        "input_dim = X_train.shape[1]\n",
        "num_classes = len(label_encoder.classes_)\n",
        "model = GenrePredictionModel(input_dim, num_classes)\n"
      ],
      "metadata": {
        "id": "8Yk-OiP3J9v0"
      },
      "execution_count": 88,
      "outputs": []
    },
    {
      "cell_type": "code",
      "source": [
        "criterion = nn.CrossEntropyLoss()\n",
        "optimizer = optim.Adam(model.parameters(), lr=0.001)\n"
      ],
      "metadata": {
        "id": "dB0lJj8lJ9yS"
      },
      "execution_count": 89,
      "outputs": []
    },
    {
      "cell_type": "code",
      "source": [
        "num_epochs = 50\n",
        "\n",
        "for epoch in range(num_epochs):\n",
        "    for features, targets in train_loader:\n",
        "        # Forward Pass\n",
        "        outputs = model(features)\n",
        "        loss = criterion(outputs, targets)\n",
        "\n",
        "        # Backward Pass and Optimization\n",
        "        optimizer.zero_grad()\n",
        "        loss.backward()\n",
        "        optimizer.step()\n",
        "\n",
        "    if (epoch + 1) % 10 == 0:\n",
        "        print(f'Epoch [{epoch + 1}/{num_epochs}], Loss: {loss.item():.4f}')\n"
      ],
      "metadata": {
        "colab": {
          "base_uri": "https://localhost:8080/"
        },
        "id": "jJ4n8Gh_J90t",
        "outputId": "093e15de-15e3-45ba-b8af-2de3953079f8"
      },
      "execution_count": 90,
      "outputs": [
        {
          "output_type": "stream",
          "name": "stdout",
          "text": [
            "Epoch [10/50], Loss: 1.7055\n",
            "Epoch [20/50], Loss: 1.8128\n",
            "Epoch [30/50], Loss: 1.9237\n",
            "Epoch [40/50], Loss: 1.4710\n",
            "Epoch [50/50], Loss: 2.4659\n"
          ]
        }
      ]
    },
    {
      "cell_type": "code",
      "source": [
        "import numpy as np\n",
        "\n",
        "# 모델 평가\n",
        "model.eval()\n",
        "with torch.no_grad():\n",
        "    y_pred = []\n",
        "    y_true = []  # 실제 정답을 저장할 리스트 추가\n",
        "    for features, targets in test_loader:\n",
        "        outputs = model(features)\n",
        "        _, predicted = torch.max(outputs, 1)\n",
        "        y_pred.extend(predicted.numpy())\n",
        "        y_true.extend(targets.numpy())  # 실제 정답 저장\n",
        "\n",
        "# 결과 확인\n",
        "y_pred_labels = label_encoder.inverse_transform(y_pred)\n",
        "y_true_labels = label_encoder.inverse_transform(y_true)  # 실제 정답 레이블 변환\n",
        "\n",
        "# 정확도 계산\n",
        "accuracy = np.mean(np.array(y_pred) == np.array(y_true))  # NumPy 배열로 변환 후 비교\n",
        "print(\"예측된 장르:\", y_pred_labels)\n",
        "print(\"실제 장르:\", y_true_labels)\n",
        "print(f'모델 정확도: {accuracy:.4f}')\n"
      ],
      "metadata": {
        "colab": {
          "base_uri": "https://localhost:8080/"
        },
        "id": "_yh2fiXPJ93L",
        "outputId": "ae404fce-e760-49fd-a678-c1b45eddabee"
      },
      "execution_count": 93,
      "outputs": [
        {
          "output_type": "stream",
          "name": "stdout",
          "text": [
            "예측된 장르: ['교향곡' '교향곡' '교향곡' ... '교향곡' '교향곡' '교향곡']\n",
            "실제 장르: ['교향곡' '뮤지컬' '뮤지컬' ... '실내악' '실내악' '뮤지컬']\n",
            "모델 정확도: 0.3009\n"
          ]
        }
      ]
    },
    {
      "cell_type": "code",
      "source": [],
      "metadata": {
        "id": "MtE_SmbFLd1W"
      },
      "execution_count": null,
      "outputs": []
    },
    {
      "cell_type": "code",
      "source": [],
      "metadata": {
        "id": "RxcJJ_E2Ld6j"
      },
      "execution_count": null,
      "outputs": []
    },
    {
      "cell_type": "code",
      "source": [
        "# 환불되지 않은 티켓의 수를 세어 관람객 수를 계산\n",
        "df['관람객 수'] = df[df['RFN_AT'] != 'Y'].groupby('PBLPRFR_NM')['SETLE_PRICE'].transform('count')\n",
        "\n",
        "# PBLPRFR_NM을 기준으로 중복된 행을 제거하고, 첫 번째 관람객 수만 남기기\n",
        "unique_audience_counts = df[['PBLPRFR_NM', '관람객 수']].drop_duplicates(subset='PBLPRFR_NM')\n",
        "\n",
        "# 결과 확인\n",
        "print(unique_audience_counts)\n",
        "\n",
        "\n",
        "#print(df[['PBLPRFR_NM', '관람객 수']])"
      ],
      "metadata": {
        "colab": {
          "base_uri": "https://localhost:8080/"
        },
        "id": "hts7d29x09IJ",
        "outputId": "86066701-dd7d-4d31-c902-9e8d212d1c0c"
      },
      "execution_count": 7,
      "outputs": [
        {
          "output_type": "stream",
          "name": "stdout",
          "text": [
            "                             PBLPRFR_NM   관람객 수\n",
            "0            국립합창단 창단 50주년 기념 <한국합창교향곡>   487.0\n",
            "597                       이창형 더블베이스 독주회    33.0\n",
            "635                     연극 <셰익스피어 인 러브>  7878.0\n",
            "830               서울 심포닉 윈드 오케스트라 창단연주회    87.0\n",
            "937       뮤지컬 < 베토벤; Beethoven Secret >     NaN\n",
            "...                                 ...     ...\n",
            "1046719    서울 리조이스 앙상블 스페셜 콘서트 ‘위로와 희망’     2.0\n",
            "1046920                     최재원 피아노 독주회     8.0\n",
            "1046928                     최승용 비올라 독주회    41.0\n",
            "1046979                      유니버설발레단 지젤   716.0\n",
            "1047795  제 3회 어텀 실내악 페스티벌 2021 - Part.3     NaN\n",
            "\n",
            "[2299 rows x 2 columns]\n"
          ]
        }
      ]
    },
    {
      "cell_type": "code",
      "source": [
        "# '관람객 수' 컬럼의 Null 값 개수 확인\n",
        "null_count = df['관람객 수'].isnull().sum()\n",
        "\n",
        "# Null 값이 있는 행 확인\n",
        "null_rows = df[df['관람객 수'].isnull()]\n",
        "\n",
        "# 결과 출력\n",
        "print(f\"'관람객 수' 컬럼의 Null 값 개수: {null_count}\")\n",
        "print(\"Null 값이 있는 행:\")\n",
        "print(null_rows[['PBLPRFR_NM', '관람객 수']])\n"
      ],
      "metadata": {
        "colab": {
          "base_uri": "https://localhost:8080/"
        },
        "id": "pYJ1zrwPALjm",
        "outputId": "c6042f87-9efa-4016-debe-9fd1855f0cb1"
      },
      "execution_count": 8,
      "outputs": [
        {
          "output_type": "stream",
          "name": "stdout",
          "text": [
            "'관람객 수' 컬럼의 Null 값 개수: 447303\n",
            "Null 값이 있는 행:\n",
            "                         PBLPRFR_NM  관람객 수\n",
            "6        국립합창단 창단 50주년 기념 <한국합창교향곡>    NaN\n",
            "20       국립합창단 창단 50주년 기념 <한국합창교향곡>    NaN\n",
            "22       국립합창단 창단 50주년 기념 <한국합창교향곡>    NaN\n",
            "26       국립합창단 창단 50주년 기념 <한국합창교향곡>    NaN\n",
            "27       국립합창단 창단 50주년 기념 <한국합창교향곡>    NaN\n",
            "...                             ...    ...\n",
            "1048562                  유니버설발레단 지젤    NaN\n",
            "1048563                  유니버설발레단 지젤    NaN\n",
            "1048564                  유니버설발레단 지젤    NaN\n",
            "1048567                  유니버설발레단 지젤    NaN\n",
            "1048569                  유니버설발레단 지젤    NaN\n",
            "\n",
            "[447303 rows x 2 columns]\n"
          ]
        }
      ]
    },
    {
      "cell_type": "code",
      "source": [
        "# '관람객 수'가 Null이 아닌 행 중에서 PBLPRFR_NM 중복을 제거\n",
        "new_df = df[df['관람객 수'].notnull()].drop_duplicates(subset='PBLPRFR_NM').copy()\n",
        "\n",
        "# 결과 확인\n",
        "print(new_df[['PBLPRFR_NM', '관람객 수']].head())\n",
        "\n",
        "row_count = new_df.shape[0]\n",
        "print(f\"새로운 데이터프레임의 행 개수: {row_count}\")"
      ],
      "metadata": {
        "colab": {
          "base_uri": "https://localhost:8080/"
        },
        "id": "OyhicDCNAY5n",
        "outputId": "b684d2a4-75d1-4c50-864a-e97e033eede1"
      },
      "execution_count": 32,
      "outputs": [
        {
          "output_type": "stream",
          "name": "stdout",
          "text": [
            "                        PBLPRFR_NM    관람객 수\n",
            "0       국립합창단 창단 50주년 기념 <한국합창교향곡>    487.0\n",
            "597                  이창형 더블베이스 독주회     33.0\n",
            "635                연극 <셰익스피어 인 러브>   7878.0\n",
            "830          서울 심포닉 윈드 오케스트라 창단연주회     87.0\n",
            "938  뮤지컬 < 베토벤; Beethoven Secret >  21952.0\n",
            "새로운 데이터프레임의 행 개수: 2286\n"
          ]
        }
      ]
    },
    {
      "cell_type": "code",
      "source": [
        "# 공연 수익 계산\n",
        "new_df['공연 수익'] = new_df['관람객 수'] * new_df['SETLE_PRICE']\n",
        "\n",
        "# 결과 확인\n",
        "print(new_df[['PBLPRFR_NM', '관람객 수', 'SETLE_PRICE', '공연 수익']].head())\n"
      ],
      "metadata": {
        "colab": {
          "base_uri": "https://localhost:8080/"
        },
        "id": "aZluz2mP01XH",
        "outputId": "f12a6cda-e5fa-4779-c893-da557ebd7d41"
      },
      "execution_count": 33,
      "outputs": [
        {
          "output_type": "stream",
          "name": "stdout",
          "text": [
            "                        PBLPRFR_NM    관람객 수  SETLE_PRICE         공연 수익\n",
            "0       국립합창단 창단 50주년 기념 <한국합창교향곡>    487.0        24000  1.168800e+07\n",
            "597                  이창형 더블베이스 독주회     33.0        24000  7.920000e+05\n",
            "635                연극 <셰익스피어 인 러브>   7878.0        93500  7.365930e+08\n",
            "830          서울 심포닉 윈드 오케스트라 창단연주회     87.0         8000  6.960000e+05\n",
            "938  뮤지컬 < 베토벤; Beethoven Secret >  21952.0       161500  3.545248e+09\n"
          ]
        }
      ]
    },
    {
      "cell_type": "code",
      "source": [
        "# 공연 수익을 만 단위로 포맷팅\n",
        "new_df['공연 수익'] = (new_df['공연 수익'] / 10000).apply(lambda x: f\"{x:,.0f} 만원\")\n",
        "\n",
        "# 결과 확인\n",
        "print(new_df[['PBLPRFR_NM', '관람객 수', 'SETLE_PRICE', '공연 수익']].head())\n",
        "\n"
      ],
      "metadata": {
        "colab": {
          "base_uri": "https://localhost:8080/",
          "height": 452
        },
        "id": "ykJ3E4aNBIPf",
        "outputId": "f032ad3c-2cb3-4d4c-db7f-c86aec3718a8"
      },
      "execution_count": 38,
      "outputs": [
        {
          "output_type": "error",
          "ename": "TypeError",
          "evalue": "unsupported operand type(s) for /: 'str' and 'int'",
          "traceback": [
            "\u001b[0;31m---------------------------------------------------------------------------\u001b[0m",
            "\u001b[0;31mTypeError\u001b[0m                                 Traceback (most recent call last)",
            "\u001b[0;32m/usr/local/lib/python3.10/dist-packages/pandas/core/ops/array_ops.py\u001b[0m in \u001b[0;36m_na_arithmetic_op\u001b[0;34m(left, right, op, is_cmp)\u001b[0m\n\u001b[1;32m    217\u001b[0m     \u001b[0;32mtry\u001b[0m\u001b[0;34m:\u001b[0m\u001b[0;34m\u001b[0m\u001b[0;34m\u001b[0m\u001b[0m\n\u001b[0;32m--> 218\u001b[0;31m         \u001b[0mresult\u001b[0m \u001b[0;34m=\u001b[0m \u001b[0mfunc\u001b[0m\u001b[0;34m(\u001b[0m\u001b[0mleft\u001b[0m\u001b[0;34m,\u001b[0m \u001b[0mright\u001b[0m\u001b[0;34m)\u001b[0m\u001b[0;34m\u001b[0m\u001b[0;34m\u001b[0m\u001b[0m\n\u001b[0m\u001b[1;32m    219\u001b[0m     \u001b[0;32mexcept\u001b[0m \u001b[0mTypeError\u001b[0m\u001b[0;34m:\u001b[0m\u001b[0;34m\u001b[0m\u001b[0;34m\u001b[0m\u001b[0m\n",
            "\u001b[0;32m/usr/local/lib/python3.10/dist-packages/pandas/core/computation/expressions.py\u001b[0m in \u001b[0;36mevaluate\u001b[0;34m(op, a, b, use_numexpr)\u001b[0m\n\u001b[1;32m    241\u001b[0m             \u001b[0;31m# error: \"None\" not callable\u001b[0m\u001b[0;34m\u001b[0m\u001b[0;34m\u001b[0m\u001b[0m\n\u001b[0;32m--> 242\u001b[0;31m             \u001b[0;32mreturn\u001b[0m \u001b[0m_evaluate\u001b[0m\u001b[0;34m(\u001b[0m\u001b[0mop\u001b[0m\u001b[0;34m,\u001b[0m \u001b[0mop_str\u001b[0m\u001b[0;34m,\u001b[0m \u001b[0ma\u001b[0m\u001b[0;34m,\u001b[0m \u001b[0mb\u001b[0m\u001b[0;34m)\u001b[0m  \u001b[0;31m# type: ignore[misc]\u001b[0m\u001b[0;34m\u001b[0m\u001b[0;34m\u001b[0m\u001b[0m\n\u001b[0m\u001b[1;32m    243\u001b[0m     \u001b[0;32mreturn\u001b[0m \u001b[0m_evaluate_standard\u001b[0m\u001b[0;34m(\u001b[0m\u001b[0mop\u001b[0m\u001b[0;34m,\u001b[0m \u001b[0mop_str\u001b[0m\u001b[0;34m,\u001b[0m \u001b[0ma\u001b[0m\u001b[0;34m,\u001b[0m \u001b[0mb\u001b[0m\u001b[0;34m)\u001b[0m\u001b[0;34m\u001b[0m\u001b[0;34m\u001b[0m\u001b[0m\n",
            "\u001b[0;32m/usr/local/lib/python3.10/dist-packages/pandas/core/computation/expressions.py\u001b[0m in \u001b[0;36m_evaluate_numexpr\u001b[0;34m(op, op_str, a, b)\u001b[0m\n\u001b[1;32m    130\u001b[0m     \u001b[0;32mif\u001b[0m \u001b[0mresult\u001b[0m \u001b[0;32mis\u001b[0m \u001b[0;32mNone\u001b[0m\u001b[0;34m:\u001b[0m\u001b[0;34m\u001b[0m\u001b[0;34m\u001b[0m\u001b[0m\n\u001b[0;32m--> 131\u001b[0;31m         \u001b[0mresult\u001b[0m \u001b[0;34m=\u001b[0m \u001b[0m_evaluate_standard\u001b[0m\u001b[0;34m(\u001b[0m\u001b[0mop\u001b[0m\u001b[0;34m,\u001b[0m \u001b[0mop_str\u001b[0m\u001b[0;34m,\u001b[0m \u001b[0ma\u001b[0m\u001b[0;34m,\u001b[0m \u001b[0mb\u001b[0m\u001b[0;34m)\u001b[0m\u001b[0;34m\u001b[0m\u001b[0;34m\u001b[0m\u001b[0m\n\u001b[0m\u001b[1;32m    132\u001b[0m \u001b[0;34m\u001b[0m\u001b[0m\n",
            "\u001b[0;32m/usr/local/lib/python3.10/dist-packages/pandas/core/computation/expressions.py\u001b[0m in \u001b[0;36m_evaluate_standard\u001b[0;34m(op, op_str, a, b)\u001b[0m\n\u001b[1;32m     72\u001b[0m         \u001b[0m_store_test_result\u001b[0m\u001b[0;34m(\u001b[0m\u001b[0;32mFalse\u001b[0m\u001b[0;34m)\u001b[0m\u001b[0;34m\u001b[0m\u001b[0;34m\u001b[0m\u001b[0m\n\u001b[0;32m---> 73\u001b[0;31m     \u001b[0;32mreturn\u001b[0m \u001b[0mop\u001b[0m\u001b[0;34m(\u001b[0m\u001b[0ma\u001b[0m\u001b[0;34m,\u001b[0m \u001b[0mb\u001b[0m\u001b[0;34m)\u001b[0m\u001b[0;34m\u001b[0m\u001b[0;34m\u001b[0m\u001b[0m\n\u001b[0m\u001b[1;32m     74\u001b[0m \u001b[0;34m\u001b[0m\u001b[0m\n",
            "\u001b[0;31mTypeError\u001b[0m: unsupported operand type(s) for /: 'str' and 'int'",
            "\nDuring handling of the above exception, another exception occurred:\n",
            "\u001b[0;31mTypeError\u001b[0m                                 Traceback (most recent call last)",
            "\u001b[0;32m<ipython-input-38-72fcdae5f3e8>\u001b[0m in \u001b[0;36m<cell line: 2>\u001b[0;34m()\u001b[0m\n\u001b[1;32m      1\u001b[0m \u001b[0;31m# 공연 수익을 만 단위로 포맷팅\u001b[0m\u001b[0;34m\u001b[0m\u001b[0;34m\u001b[0m\u001b[0m\n\u001b[0;32m----> 2\u001b[0;31m \u001b[0mnew_df\u001b[0m\u001b[0;34m[\u001b[0m\u001b[0;34m'공연 수익'\u001b[0m\u001b[0;34m]\u001b[0m \u001b[0;34m=\u001b[0m \u001b[0;34m(\u001b[0m\u001b[0mnew_df\u001b[0m\u001b[0;34m[\u001b[0m\u001b[0;34m'공연 수익'\u001b[0m\u001b[0;34m]\u001b[0m \u001b[0;34m/\u001b[0m \u001b[0;36m10000\u001b[0m\u001b[0;34m)\u001b[0m\u001b[0;34m.\u001b[0m\u001b[0mapply\u001b[0m\u001b[0;34m(\u001b[0m\u001b[0;32mlambda\u001b[0m \u001b[0mx\u001b[0m\u001b[0;34m:\u001b[0m \u001b[0;34mf\"{x:,.0f}\"\u001b[0m\u001b[0;34m)\u001b[0m\u001b[0;34m\u001b[0m\u001b[0;34m\u001b[0m\u001b[0m\n\u001b[0m\u001b[1;32m      3\u001b[0m \u001b[0;34m\u001b[0m\u001b[0m\n\u001b[1;32m      4\u001b[0m \u001b[0;31m# 결과 확인\u001b[0m\u001b[0;34m\u001b[0m\u001b[0;34m\u001b[0m\u001b[0m\n\u001b[1;32m      5\u001b[0m \u001b[0mprint\u001b[0m\u001b[0;34m(\u001b[0m\u001b[0mnew_df\u001b[0m\u001b[0;34m[\u001b[0m\u001b[0;34m[\u001b[0m\u001b[0;34m'PBLPRFR_NM'\u001b[0m\u001b[0;34m,\u001b[0m \u001b[0;34m'관람객 수'\u001b[0m\u001b[0;34m,\u001b[0m \u001b[0;34m'SETLE_PRICE'\u001b[0m\u001b[0;34m,\u001b[0m \u001b[0;34m'공연 수익'\u001b[0m\u001b[0;34m]\u001b[0m\u001b[0;34m]\u001b[0m\u001b[0;34m.\u001b[0m\u001b[0mhead\u001b[0m\u001b[0;34m(\u001b[0m\u001b[0;34m)\u001b[0m\u001b[0;34m)\u001b[0m\u001b[0;34m\u001b[0m\u001b[0;34m\u001b[0m\u001b[0m\n",
            "\u001b[0;32m/usr/local/lib/python3.10/dist-packages/pandas/core/ops/common.py\u001b[0m in \u001b[0;36mnew_method\u001b[0;34m(self, other)\u001b[0m\n\u001b[1;32m     74\u001b[0m         \u001b[0mother\u001b[0m \u001b[0;34m=\u001b[0m \u001b[0mitem_from_zerodim\u001b[0m\u001b[0;34m(\u001b[0m\u001b[0mother\u001b[0m\u001b[0;34m)\u001b[0m\u001b[0;34m\u001b[0m\u001b[0;34m\u001b[0m\u001b[0m\n\u001b[1;32m     75\u001b[0m \u001b[0;34m\u001b[0m\u001b[0m\n\u001b[0;32m---> 76\u001b[0;31m         \u001b[0;32mreturn\u001b[0m \u001b[0mmethod\u001b[0m\u001b[0;34m(\u001b[0m\u001b[0mself\u001b[0m\u001b[0;34m,\u001b[0m \u001b[0mother\u001b[0m\u001b[0;34m)\u001b[0m\u001b[0;34m\u001b[0m\u001b[0;34m\u001b[0m\u001b[0m\n\u001b[0m\u001b[1;32m     77\u001b[0m \u001b[0;34m\u001b[0m\u001b[0m\n\u001b[1;32m     78\u001b[0m     \u001b[0;32mreturn\u001b[0m \u001b[0mnew_method\u001b[0m\u001b[0;34m\u001b[0m\u001b[0;34m\u001b[0m\u001b[0m\n",
            "\u001b[0;32m/usr/local/lib/python3.10/dist-packages/pandas/core/arraylike.py\u001b[0m in \u001b[0;36m__truediv__\u001b[0;34m(self, other)\u001b[0m\n\u001b[1;32m    208\u001b[0m     \u001b[0;34m@\u001b[0m\u001b[0munpack_zerodim_and_defer\u001b[0m\u001b[0;34m(\u001b[0m\u001b[0;34m\"__truediv__\"\u001b[0m\u001b[0;34m)\u001b[0m\u001b[0;34m\u001b[0m\u001b[0;34m\u001b[0m\u001b[0m\n\u001b[1;32m    209\u001b[0m     \u001b[0;32mdef\u001b[0m \u001b[0m__truediv__\u001b[0m\u001b[0;34m(\u001b[0m\u001b[0mself\u001b[0m\u001b[0;34m,\u001b[0m \u001b[0mother\u001b[0m\u001b[0;34m)\u001b[0m\u001b[0;34m:\u001b[0m\u001b[0;34m\u001b[0m\u001b[0;34m\u001b[0m\u001b[0m\n\u001b[0;32m--> 210\u001b[0;31m         \u001b[0;32mreturn\u001b[0m \u001b[0mself\u001b[0m\u001b[0;34m.\u001b[0m\u001b[0m_arith_method\u001b[0m\u001b[0;34m(\u001b[0m\u001b[0mother\u001b[0m\u001b[0;34m,\u001b[0m \u001b[0moperator\u001b[0m\u001b[0;34m.\u001b[0m\u001b[0mtruediv\u001b[0m\u001b[0;34m)\u001b[0m\u001b[0;34m\u001b[0m\u001b[0;34m\u001b[0m\u001b[0m\n\u001b[0m\u001b[1;32m    211\u001b[0m \u001b[0;34m\u001b[0m\u001b[0m\n\u001b[1;32m    212\u001b[0m     \u001b[0;34m@\u001b[0m\u001b[0munpack_zerodim_and_defer\u001b[0m\u001b[0;34m(\u001b[0m\u001b[0;34m\"__rtruediv__\"\u001b[0m\u001b[0;34m)\u001b[0m\u001b[0;34m\u001b[0m\u001b[0;34m\u001b[0m\u001b[0m\n",
            "\u001b[0;32m/usr/local/lib/python3.10/dist-packages/pandas/core/series.py\u001b[0m in \u001b[0;36m_arith_method\u001b[0;34m(self, other, op)\u001b[0m\n\u001b[1;32m   6133\u001b[0m     \u001b[0;32mdef\u001b[0m \u001b[0m_arith_method\u001b[0m\u001b[0;34m(\u001b[0m\u001b[0mself\u001b[0m\u001b[0;34m,\u001b[0m \u001b[0mother\u001b[0m\u001b[0;34m,\u001b[0m \u001b[0mop\u001b[0m\u001b[0;34m)\u001b[0m\u001b[0;34m:\u001b[0m\u001b[0;34m\u001b[0m\u001b[0;34m\u001b[0m\u001b[0m\n\u001b[1;32m   6134\u001b[0m         \u001b[0mself\u001b[0m\u001b[0;34m,\u001b[0m \u001b[0mother\u001b[0m \u001b[0;34m=\u001b[0m \u001b[0mself\u001b[0m\u001b[0;34m.\u001b[0m\u001b[0m_align_for_op\u001b[0m\u001b[0;34m(\u001b[0m\u001b[0mother\u001b[0m\u001b[0;34m)\u001b[0m\u001b[0;34m\u001b[0m\u001b[0;34m\u001b[0m\u001b[0m\n\u001b[0;32m-> 6135\u001b[0;31m         \u001b[0;32mreturn\u001b[0m \u001b[0mbase\u001b[0m\u001b[0;34m.\u001b[0m\u001b[0mIndexOpsMixin\u001b[0m\u001b[0;34m.\u001b[0m\u001b[0m_arith_method\u001b[0m\u001b[0;34m(\u001b[0m\u001b[0mself\u001b[0m\u001b[0;34m,\u001b[0m \u001b[0mother\u001b[0m\u001b[0;34m,\u001b[0m \u001b[0mop\u001b[0m\u001b[0;34m)\u001b[0m\u001b[0;34m\u001b[0m\u001b[0;34m\u001b[0m\u001b[0m\n\u001b[0m\u001b[1;32m   6136\u001b[0m \u001b[0;34m\u001b[0m\u001b[0m\n\u001b[1;32m   6137\u001b[0m     \u001b[0;32mdef\u001b[0m \u001b[0m_align_for_op\u001b[0m\u001b[0;34m(\u001b[0m\u001b[0mself\u001b[0m\u001b[0;34m,\u001b[0m \u001b[0mright\u001b[0m\u001b[0;34m,\u001b[0m \u001b[0malign_asobject\u001b[0m\u001b[0;34m:\u001b[0m \u001b[0mbool\u001b[0m \u001b[0;34m=\u001b[0m \u001b[0;32mFalse\u001b[0m\u001b[0;34m)\u001b[0m\u001b[0;34m:\u001b[0m\u001b[0;34m\u001b[0m\u001b[0;34m\u001b[0m\u001b[0m\n",
            "\u001b[0;32m/usr/local/lib/python3.10/dist-packages/pandas/core/base.py\u001b[0m in \u001b[0;36m_arith_method\u001b[0;34m(self, other, op)\u001b[0m\n\u001b[1;32m   1380\u001b[0m \u001b[0;34m\u001b[0m\u001b[0m\n\u001b[1;32m   1381\u001b[0m         \u001b[0;32mwith\u001b[0m \u001b[0mnp\u001b[0m\u001b[0;34m.\u001b[0m\u001b[0merrstate\u001b[0m\u001b[0;34m(\u001b[0m\u001b[0mall\u001b[0m\u001b[0;34m=\u001b[0m\u001b[0;34m\"ignore\"\u001b[0m\u001b[0;34m)\u001b[0m\u001b[0;34m:\u001b[0m\u001b[0;34m\u001b[0m\u001b[0;34m\u001b[0m\u001b[0m\n\u001b[0;32m-> 1382\u001b[0;31m             \u001b[0mresult\u001b[0m \u001b[0;34m=\u001b[0m \u001b[0mops\u001b[0m\u001b[0;34m.\u001b[0m\u001b[0marithmetic_op\u001b[0m\u001b[0;34m(\u001b[0m\u001b[0mlvalues\u001b[0m\u001b[0;34m,\u001b[0m \u001b[0mrvalues\u001b[0m\u001b[0;34m,\u001b[0m \u001b[0mop\u001b[0m\u001b[0;34m)\u001b[0m\u001b[0;34m\u001b[0m\u001b[0;34m\u001b[0m\u001b[0m\n\u001b[0m\u001b[1;32m   1383\u001b[0m \u001b[0;34m\u001b[0m\u001b[0m\n\u001b[1;32m   1384\u001b[0m         \u001b[0;32mreturn\u001b[0m \u001b[0mself\u001b[0m\u001b[0;34m.\u001b[0m\u001b[0m_construct_result\u001b[0m\u001b[0;34m(\u001b[0m\u001b[0mresult\u001b[0m\u001b[0;34m,\u001b[0m \u001b[0mname\u001b[0m\u001b[0;34m=\u001b[0m\u001b[0mres_name\u001b[0m\u001b[0;34m)\u001b[0m\u001b[0;34m\u001b[0m\u001b[0;34m\u001b[0m\u001b[0m\n",
            "\u001b[0;32m/usr/local/lib/python3.10/dist-packages/pandas/core/ops/array_ops.py\u001b[0m in \u001b[0;36marithmetic_op\u001b[0;34m(left, right, op)\u001b[0m\n\u001b[1;32m    281\u001b[0m         \u001b[0;31m# error: Argument 1 to \"_na_arithmetic_op\" has incompatible type\u001b[0m\u001b[0;34m\u001b[0m\u001b[0;34m\u001b[0m\u001b[0m\n\u001b[1;32m    282\u001b[0m         \u001b[0;31m# \"Union[ExtensionArray, ndarray[Any, Any]]\"; expected \"ndarray[Any, Any]\"\u001b[0m\u001b[0;34m\u001b[0m\u001b[0;34m\u001b[0m\u001b[0m\n\u001b[0;32m--> 283\u001b[0;31m         \u001b[0mres_values\u001b[0m \u001b[0;34m=\u001b[0m \u001b[0m_na_arithmetic_op\u001b[0m\u001b[0;34m(\u001b[0m\u001b[0mleft\u001b[0m\u001b[0;34m,\u001b[0m \u001b[0mright\u001b[0m\u001b[0;34m,\u001b[0m \u001b[0mop\u001b[0m\u001b[0;34m)\u001b[0m  \u001b[0;31m# type: ignore[arg-type]\u001b[0m\u001b[0;34m\u001b[0m\u001b[0;34m\u001b[0m\u001b[0m\n\u001b[0m\u001b[1;32m    284\u001b[0m \u001b[0;34m\u001b[0m\u001b[0m\n\u001b[1;32m    285\u001b[0m     \u001b[0;32mreturn\u001b[0m \u001b[0mres_values\u001b[0m\u001b[0;34m\u001b[0m\u001b[0;34m\u001b[0m\u001b[0m\n",
            "\u001b[0;32m/usr/local/lib/python3.10/dist-packages/pandas/core/ops/array_ops.py\u001b[0m in \u001b[0;36m_na_arithmetic_op\u001b[0;34m(left, right, op, is_cmp)\u001b[0m\n\u001b[1;32m    225\u001b[0m             \u001b[0;31m# Don't do this for comparisons, as that will handle complex numbers\u001b[0m\u001b[0;34m\u001b[0m\u001b[0;34m\u001b[0m\u001b[0m\n\u001b[1;32m    226\u001b[0m             \u001b[0;31m#  incorrectly, see GH#32047\u001b[0m\u001b[0;34m\u001b[0m\u001b[0;34m\u001b[0m\u001b[0m\n\u001b[0;32m--> 227\u001b[0;31m             \u001b[0mresult\u001b[0m \u001b[0;34m=\u001b[0m \u001b[0m_masked_arith_op\u001b[0m\u001b[0;34m(\u001b[0m\u001b[0mleft\u001b[0m\u001b[0;34m,\u001b[0m \u001b[0mright\u001b[0m\u001b[0;34m,\u001b[0m \u001b[0mop\u001b[0m\u001b[0;34m)\u001b[0m\u001b[0;34m\u001b[0m\u001b[0;34m\u001b[0m\u001b[0m\n\u001b[0m\u001b[1;32m    228\u001b[0m         \u001b[0;32melse\u001b[0m\u001b[0;34m:\u001b[0m\u001b[0;34m\u001b[0m\u001b[0;34m\u001b[0m\u001b[0m\n\u001b[1;32m    229\u001b[0m             \u001b[0;32mraise\u001b[0m\u001b[0;34m\u001b[0m\u001b[0;34m\u001b[0m\u001b[0m\n",
            "\u001b[0;32m/usr/local/lib/python3.10/dist-packages/pandas/core/ops/array_ops.py\u001b[0m in \u001b[0;36m_masked_arith_op\u001b[0;34m(x, y, op)\u001b[0m\n\u001b[1;32m    180\u001b[0m \u001b[0;34m\u001b[0m\u001b[0m\n\u001b[1;32m    181\u001b[0m         \u001b[0;32mif\u001b[0m \u001b[0mmask\u001b[0m\u001b[0;34m.\u001b[0m\u001b[0many\u001b[0m\u001b[0;34m(\u001b[0m\u001b[0;34m)\u001b[0m\u001b[0;34m:\u001b[0m\u001b[0;34m\u001b[0m\u001b[0;34m\u001b[0m\u001b[0m\n\u001b[0;32m--> 182\u001b[0;31m             \u001b[0mresult\u001b[0m\u001b[0;34m[\u001b[0m\u001b[0mmask\u001b[0m\u001b[0;34m]\u001b[0m \u001b[0;34m=\u001b[0m \u001b[0mop\u001b[0m\u001b[0;34m(\u001b[0m\u001b[0mxrav\u001b[0m\u001b[0;34m[\u001b[0m\u001b[0mmask\u001b[0m\u001b[0;34m]\u001b[0m\u001b[0;34m,\u001b[0m \u001b[0my\u001b[0m\u001b[0;34m)\u001b[0m\u001b[0;34m\u001b[0m\u001b[0;34m\u001b[0m\u001b[0m\n\u001b[0m\u001b[1;32m    183\u001b[0m \u001b[0;34m\u001b[0m\u001b[0m\n\u001b[1;32m    184\u001b[0m     \u001b[0mnp\u001b[0m\u001b[0;34m.\u001b[0m\u001b[0mputmask\u001b[0m\u001b[0;34m(\u001b[0m\u001b[0mresult\u001b[0m\u001b[0;34m,\u001b[0m \u001b[0;34m~\u001b[0m\u001b[0mmask\u001b[0m\u001b[0;34m,\u001b[0m \u001b[0mnp\u001b[0m\u001b[0;34m.\u001b[0m\u001b[0mnan\u001b[0m\u001b[0;34m)\u001b[0m\u001b[0;34m\u001b[0m\u001b[0;34m\u001b[0m\u001b[0m\n",
            "\u001b[0;31mTypeError\u001b[0m: unsupported operand type(s) for /: 'str' and 'int'"
          ]
        }
      ]
    },
    {
      "cell_type": "code",
      "source": [
        "print(new_df['공연 수익'])"
      ],
      "metadata": {
        "colab": {
          "base_uri": "https://localhost:8080/"
        },
        "id": "VTxcfUTWDw8y",
        "outputId": "0e1b6cd3-2d0e-474c-9811-56e1b22666f7"
      },
      "execution_count": 39,
      "outputs": [
        {
          "output_type": "stream",
          "name": "stdout",
          "text": [
            "0            1,169 만원\n",
            "597             79 만원\n",
            "635         73,659 만원\n",
            "830             70 만원\n",
            "938        354,525 만원\n",
            "              ...    \n",
            "1046719          4 만원\n",
            "1046920         19 만원\n",
            "1046928         86 만원\n",
            "1046979      1,504 만원\n",
            "1047796        506 만원\n",
            "Name: 공연 수익, Length: 2286, dtype: object\n"
          ]
        }
      ]
    },
    {
      "cell_type": "code",
      "source": [
        "# 공연 수익 계산\n",
        "df['공연 수익'] = df['관람객 수'] * df['SETLE_PRICE']\n",
        "\n",
        "# 특성과 타겟 변수 선택\n",
        "features = ['PBLPRFR_PLACE_NM', 'GENRE_NM', 'DSCNT_CN', 'PBLPRFR_DE', '관람객 수']\n",
        "target = '공연 수익'\n",
        "\n",
        "# 특성과 타겟 변수 분리\n",
        "X = df[features]\n",
        "y = df[target]\n",
        "\n",
        "# 레이블 인코딩\n",
        "label_encoders = {}\n",
        "for column in X.select_dtypes(include=['object']).columns:\n",
        "    le = LabelEncoder()\n",
        "    X[column] = le.fit_transform(X[column].astype(str))\n",
        "    label_encoders[column] = le\n",
        "\n",
        "# 데이터 정규화\n",
        "scaler = StandardScaler()\n",
        "X_scaled = scaler.fit_transform(X)\n",
        "\n",
        "# Train-Test Split\n",
        "X_train, X_test, y_train, y_test = train_test_split(X_scaled, y, test_size=0.2, random_state=42)"
      ],
      "metadata": {
        "colab": {
          "base_uri": "https://localhost:8080/"
        },
        "id": "m89O4cNj2uZe",
        "outputId": "f97ab741-ac70-496b-ab26-6c2397059f70"
      },
      "execution_count": 36,
      "outputs": [
        {
          "output_type": "stream",
          "name": "stderr",
          "text": [
            "<ipython-input-36-bca879bc7446>:16: SettingWithCopyWarning: \n",
            "A value is trying to be set on a copy of a slice from a DataFrame.\n",
            "Try using .loc[row_indexer,col_indexer] = value instead\n",
            "\n",
            "See the caveats in the documentation: https://pandas.pydata.org/pandas-docs/stable/user_guide/indexing.html#returning-a-view-versus-a-copy\n",
            "  X[column] = le.fit_transform(X[column].astype(str))\n",
            "<ipython-input-36-bca879bc7446>:16: SettingWithCopyWarning: \n",
            "A value is trying to be set on a copy of a slice from a DataFrame.\n",
            "Try using .loc[row_indexer,col_indexer] = value instead\n",
            "\n",
            "See the caveats in the documentation: https://pandas.pydata.org/pandas-docs/stable/user_guide/indexing.html#returning-a-view-versus-a-copy\n",
            "  X[column] = le.fit_transform(X[column].astype(str))\n",
            "<ipython-input-36-bca879bc7446>:16: SettingWithCopyWarning: \n",
            "A value is trying to be set on a copy of a slice from a DataFrame.\n",
            "Try using .loc[row_indexer,col_indexer] = value instead\n",
            "\n",
            "See the caveats in the documentation: https://pandas.pydata.org/pandas-docs/stable/user_guide/indexing.html#returning-a-view-versus-a-copy\n",
            "  X[column] = le.fit_transform(X[column].astype(str))\n"
          ]
        }
      ]
    },
    {
      "cell_type": "code",
      "source": [
        "import torch\n",
        "import torch.nn as nn\n",
        "import torch.optim as optim\n",
        "import pandas as pd\n",
        "\n",
        "class RevenueDataset(torch.utils.data.Dataset):\n",
        "    def __init__(self, features, targets):\n",
        "        self.X = torch.tensor(features, dtype=torch.float32)\n",
        "        self.y = torch.tensor(targets.values, dtype=torch.float32)\n",
        "\n",
        "    def __len__(self):\n",
        "        return len(self.y)\n",
        "\n",
        "    def __getitem__(self, idx):\n",
        "        return self.X[idx], self.y[idx]\n",
        "\n",
        "# 데이터셋 생성\n",
        "train_dataset = RevenueDataset(X_train, y_train)\n",
        "test_dataset = RevenueDataset(X_test, y_test)\n",
        "\n",
        "# DataLoader 생성 (배치 크기를 64로 조정)\n",
        "train_loader = torch.utils.data.DataLoader(train_dataset, batch_size=64, shuffle=True)\n",
        "test_loader = torch.utils.data.DataLoader(test_dataset, batch_size=64, shuffle=False)\n"
      ],
      "metadata": {
        "id": "2CBenjiG33Bd"
      },
      "execution_count": 25,
      "outputs": []
    },
    {
      "cell_type": "code",
      "source": [
        "class LinearRegressionModel(nn.Module):\n",
        "    def __init__(self, input_dim):\n",
        "        super(LinearRegressionModel, self).__init__()\n",
        "        self.linear = nn.Linear(input_dim, 1)\n",
        "\n",
        "    def forward(self, x):\n",
        "        return self.linear(x)\n",
        "\n",
        "# 모델 초기화\n",
        "input_dim = X_train.shape[1]\n",
        "model = LinearRegressionModel(input_dim)"
      ],
      "metadata": {
        "id": "I84JqTM0344X"
      },
      "execution_count": 27,
      "outputs": []
    },
    {
      "cell_type": "code",
      "source": [
        "# 손실 함수 및 옵티마이저 설정\n",
        "criterion = nn.MSELoss()\n",
        "optimizer = optim.Adam(model.parameters(), lr=0.1)\n",
        "\n",
        "num_epochs = 20  # 에포크 수 조정\n",
        "patience = 5  # 조기 종료를 위한 인내 기간\n",
        "best_loss = float('inf')\n",
        "patience_counter = 0\n"
      ],
      "metadata": {
        "id": "uNCLNkyK38u1"
      },
      "execution_count": 28,
      "outputs": []
    },
    {
      "cell_type": "code",
      "source": [
        "for epoch in range(num_epochs):\n",
        "    for features, targets in train_loader:\n",
        "        # Forward Pass\n",
        "        outputs = model(features).squeeze()\n",
        "        loss = criterion(outputs, targets)\n",
        "\n",
        "        # Backward Pass and Optimization\n",
        "        optimizer.zero_grad()\n",
        "        loss.backward()\n",
        "        optimizer.step()\n",
        "\n",
        "    # 에포크마다 손실 확인\n",
        "    if (epoch + 1) % 10 == 0:\n",
        "        print(f'Epoch [{epoch + 1}/{num_epochs}], Loss: {loss.item():.4f}')\n",
        "\n",
        "    # 조기 종료 로직\n",
        "    if loss.item() < best_loss:\n",
        "        best_loss = loss.item()\n",
        "        patience_counter = 0  # 손실 개선 시 카운터 초기화\n",
        "    else:\n",
        "        patience_counter += 1  # 손실 개선이 없으면 카운터 증가\n",
        "\n",
        "    if patience_counter >= patience:\n",
        "        print(f'조기 종료: {epoch + 1} 에포크에서 훈련 종료')\n",
        "        break"
      ],
      "metadata": {
        "colab": {
          "base_uri": "https://localhost:8080/"
        },
        "id": "QE5kozTz39y7",
        "outputId": "d6da5c4f-db75-428d-a953-e88734ee1a0e"
      },
      "execution_count": 29,
      "outputs": [
        {
          "output_type": "stream",
          "name": "stdout",
          "text": [
            "조기 종료: 5 에포크에서 훈련 종료\n"
          ]
        }
      ]
    },
    {
      "cell_type": "code",
      "source": [
        "# 모델 평가\n",
        "model.eval()\n",
        "with torch.no_grad():\n",
        "    y_pred = []\n",
        "    for features, targets in test_loader:\n",
        "        outputs = model(features).squeeze()\n",
        "        y_pred.extend(outputs.numpy())\n",
        "\n",
        "# 결과 확인\n",
        "y_pred = pd.Series(y_pred)\n",
        "print(\"예측된 공연 수익:\", y_pred.describe())"
      ],
      "metadata": {
        "colab": {
          "base_uri": "https://localhost:8080/"
        },
        "id": "sc2pflyD3_Zs",
        "outputId": "77bf54ce-a1c2-4b3f-b91b-6391701acb32"
      },
      "execution_count": 30,
      "outputs": [
        {
          "output_type": "stream",
          "name": "stdout",
          "text": [
            "예측된 공연 수익: count    0.0\n",
            "mean     NaN\n",
            "std      NaN\n",
            "min      NaN\n",
            "25%      NaN\n",
            "50%      NaN\n",
            "75%      NaN\n",
            "max      NaN\n",
            "dtype: float64\n"
          ]
        }
      ]
    }
  ]
}